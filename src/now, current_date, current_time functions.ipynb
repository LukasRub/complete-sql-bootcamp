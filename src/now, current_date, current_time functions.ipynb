{
 "cells": [
  {
   "cell_type": "markdown",
   "id": "d848c712",
   "metadata": {},
   "source": [
    "### **`now`** Function\n",
    "\n",
    "#### Description\n",
    "The PostgreSQL **`now`** function returns the current date and time with the time zone.\n",
    "\n",
    "#### Syntax\n",
    "The syntax for the **`now`** function in PostgreSQL is:\n",
    "```\n",
    "now()\n",
    "```\n",
    "\n",
    "#### Parameters or Arguments\n",
    "There are no parameters or arguments for the now function.\n",
    "\n",
    "#### Note\n",
    "* The now function will return the current date as a `YYYY-MM-DD HH:MM:SS.US+TZ` format."
   ]
  },
  {
   "cell_type": "code",
   "execution_count": 1,
   "id": "543b4ca6",
   "metadata": {},
   "outputs": [
    {
     "data": {
      "text/html": [
       "<div>\n",
       "<style scoped>\n",
       "    .dataframe tbody tr th:only-of-type {\n",
       "        vertical-align: middle;\n",
       "    }\n",
       "\n",
       "    .dataframe tbody tr th {\n",
       "        vertical-align: top;\n",
       "    }\n",
       "\n",
       "    .dataframe thead th {\n",
       "        text-align: right;\n",
       "    }\n",
       "</style>\n",
       "<table border=\"1\" class=\"dataframe\">\n",
       "  <thead>\n",
       "    <tr style=\"text-align: right;\">\n",
       "      <th></th>\n",
       "      <th>now</th>\n",
       "    </tr>\n",
       "  </thead>\n",
       "  <tbody>\n",
       "    <tr>\n",
       "      <th>0</th>\n",
       "      <td>2023-03-21 15:49:57.513732+00:00</td>\n",
       "    </tr>\n",
       "  </tbody>\n",
       "</table>\n",
       "</div>"
      ],
      "text/plain": [
       "                               now\n",
       "0 2023-03-21 15:49:57.513732+00:00"
      ]
     },
     "metadata": {},
     "output_type": "display_data"
    }
   ],
   "source": [
    "from utils.query_db import db_connection\n",
    "\n",
    "with db_connection() as conn:\n",
    "    conn.fetch_all(\"\"\"SELECT now();\"\"\")"
   ]
  },
  {
   "cell_type": "markdown",
   "id": "a4f27111",
   "metadata": {},
   "source": [
    "**Note**: The above implies that the timezone of our Postgres instance is set to UTC (or equivallent), which we can confirm by executing `SHOW timezone;`."
   ]
  },
  {
   "cell_type": "code",
   "execution_count": 2,
   "id": "806d2e41",
   "metadata": {},
   "outputs": [
    {
     "data": {
      "text/html": [
       "<div>\n",
       "<style scoped>\n",
       "    .dataframe tbody tr th:only-of-type {\n",
       "        vertical-align: middle;\n",
       "    }\n",
       "\n",
       "    .dataframe tbody tr th {\n",
       "        vertical-align: top;\n",
       "    }\n",
       "\n",
       "    .dataframe thead th {\n",
       "        text-align: right;\n",
       "    }\n",
       "</style>\n",
       "<table border=\"1\" class=\"dataframe\">\n",
       "  <thead>\n",
       "    <tr style=\"text-align: right;\">\n",
       "      <th></th>\n",
       "      <th>TimeZone</th>\n",
       "    </tr>\n",
       "  </thead>\n",
       "  <tbody>\n",
       "    <tr>\n",
       "      <th>0</th>\n",
       "      <td>Etc/UTC</td>\n",
       "    </tr>\n",
       "  </tbody>\n",
       "</table>\n",
       "</div>"
      ],
      "text/plain": [
       "  TimeZone\n",
       "0  Etc/UTC"
      ]
     },
     "metadata": {},
     "output_type": "display_data"
    }
   ],
   "source": [
    "with db_connection() as conn:\n",
    "    conn.fetch_all(\"\"\"SHOW timezone;\"\"\")"
   ]
  },
  {
   "cell_type": "markdown",
   "id": "e451e009",
   "metadata": {},
   "source": [
    "### **`current_date`** Function\n",
    "\n",
    "#### Description\n",
    "The PostgreSQL **`current_date`** function returns the current date.\n",
    "\n",
    "#### Syntax\n",
    "The syntax for the **`current_date`** function in PostgreSQL is:\n",
    "```\n",
    "current_date\n",
    "```\n",
    "\n",
    "#### Parameters or Arguments\n",
    "There are no parameters or arguments for the now function.\n",
    "\n",
    "#### Note\n",
    "* The **`current_date`** function will return the current date as a `YYYY-MM-DD` format.\n",
    "* Do not put parentheses () after the **`current_date`** function."
   ]
  },
  {
   "cell_type": "code",
   "execution_count": 3,
   "id": "7fecb1ad",
   "metadata": {},
   "outputs": [
    {
     "data": {
      "text/html": [
       "<div>\n",
       "<style scoped>\n",
       "    .dataframe tbody tr th:only-of-type {\n",
       "        vertical-align: middle;\n",
       "    }\n",
       "\n",
       "    .dataframe tbody tr th {\n",
       "        vertical-align: top;\n",
       "    }\n",
       "\n",
       "    .dataframe thead th {\n",
       "        text-align: right;\n",
       "    }\n",
       "</style>\n",
       "<table border=\"1\" class=\"dataframe\">\n",
       "  <thead>\n",
       "    <tr style=\"text-align: right;\">\n",
       "      <th></th>\n",
       "      <th>current_date</th>\n",
       "    </tr>\n",
       "  </thead>\n",
       "  <tbody>\n",
       "    <tr>\n",
       "      <th>0</th>\n",
       "      <td>2023-03-21</td>\n",
       "    </tr>\n",
       "  </tbody>\n",
       "</table>\n",
       "</div>"
      ],
      "text/plain": [
       "  current_date\n",
       "0   2023-03-21"
      ]
     },
     "metadata": {},
     "output_type": "display_data"
    }
   ],
   "source": [
    "with db_connection() as conn:\n",
    "    conn.fetch_all(\"\"\"SELECT current_date;\"\"\")"
   ]
  },
  {
   "cell_type": "markdown",
   "id": "4b31d677",
   "metadata": {},
   "source": [
    "**Note**: You can perform algebra with the result of **`current_date`** to add/substract days"
   ]
  },
  {
   "cell_type": "code",
   "execution_count": 4,
   "id": "0815d58b",
   "metadata": {},
   "outputs": [
    {
     "data": {
      "text/html": [
       "<div>\n",
       "<style scoped>\n",
       "    .dataframe tbody tr th:only-of-type {\n",
       "        vertical-align: middle;\n",
       "    }\n",
       "\n",
       "    .dataframe tbody tr th {\n",
       "        vertical-align: top;\n",
       "    }\n",
       "\n",
       "    .dataframe thead th {\n",
       "        text-align: right;\n",
       "    }\n",
       "</style>\n",
       "<table border=\"1\" class=\"dataframe\">\n",
       "  <thead>\n",
       "    <tr style=\"text-align: right;\">\n",
       "      <th></th>\n",
       "      <th>future_date</th>\n",
       "    </tr>\n",
       "  </thead>\n",
       "  <tbody>\n",
       "    <tr>\n",
       "      <th>0</th>\n",
       "      <td>2023-06-29</td>\n",
       "    </tr>\n",
       "  </tbody>\n",
       "</table>\n",
       "</div>"
      ],
      "text/plain": [
       "  future_date\n",
       "0  2023-06-29"
      ]
     },
     "metadata": {},
     "output_type": "display_data"
    }
   ],
   "source": [
    "with db_connection() as conn:\n",
    "    conn.fetch_all(\"\"\"SELECT current_date + 100 AS future_date;\"\"\")"
   ]
  },
  {
   "cell_type": "markdown",
   "id": "384705ba",
   "metadata": {},
   "source": [
    "### **`current_time`** Function\n",
    "\n",
    "#### Description\n",
    "The PostgreSQL **`current_time`** function returns the current time with the time zone.\n",
    "\n",
    "#### Syntax\n",
    "The syntax for the **`current_time`** function in PostgreSQL is:\n",
    "```\n",
    "current_time( [ precision ] )\n",
    "```\n",
    "\n",
    "#### Parameters or Arguments\n",
    "* *`precision`* - Optional. The number of digits to round the fractional seconds to.\n",
    "\n",
    "#### Note\n",
    "* The **`current_time`** function will return the current time of day as a `HH:MM:SS.US+TZ` format.\n",
    "* Do not put parentheses () after the **`current_time`** function when the *`precision`* parameter is not specified. "
   ]
  },
  {
   "cell_type": "code",
   "execution_count": 5,
   "id": "55b87302",
   "metadata": {},
   "outputs": [
    {
     "data": {
      "text/html": [
       "<div>\n",
       "<style scoped>\n",
       "    .dataframe tbody tr th:only-of-type {\n",
       "        vertical-align: middle;\n",
       "    }\n",
       "\n",
       "    .dataframe tbody tr th {\n",
       "        vertical-align: top;\n",
       "    }\n",
       "\n",
       "    .dataframe thead th {\n",
       "        text-align: right;\n",
       "    }\n",
       "</style>\n",
       "<table border=\"1\" class=\"dataframe\">\n",
       "  <thead>\n",
       "    <tr style=\"text-align: right;\">\n",
       "      <th></th>\n",
       "      <th>current_time</th>\n",
       "    </tr>\n",
       "  </thead>\n",
       "  <tbody>\n",
       "    <tr>\n",
       "      <th>0</th>\n",
       "      <td>15:49:57.606365+00:00</td>\n",
       "    </tr>\n",
       "  </tbody>\n",
       "</table>\n",
       "</div>"
      ],
      "text/plain": [
       "            current_time\n",
       "0  15:49:57.606365+00:00"
      ]
     },
     "metadata": {},
     "output_type": "display_data"
    }
   ],
   "source": [
    "with db_connection() as conn:\n",
    "    conn.fetch_all(\"\"\"SELECT current_time;\"\"\")"
   ]
  },
  {
   "cell_type": "code",
   "execution_count": 6,
   "id": "c332499e",
   "metadata": {},
   "outputs": [
    {
     "data": {
      "text/html": [
       "<div>\n",
       "<style scoped>\n",
       "    .dataframe tbody tr th:only-of-type {\n",
       "        vertical-align: middle;\n",
       "    }\n",
       "\n",
       "    .dataframe tbody tr th {\n",
       "        vertical-align: top;\n",
       "    }\n",
       "\n",
       "    .dataframe thead th {\n",
       "        text-align: right;\n",
       "    }\n",
       "</style>\n",
       "<table border=\"1\" class=\"dataframe\">\n",
       "  <thead>\n",
       "    <tr style=\"text-align: right;\">\n",
       "      <th></th>\n",
       "      <th>current_time</th>\n",
       "    </tr>\n",
       "  </thead>\n",
       "  <tbody>\n",
       "    <tr>\n",
       "      <th>0</th>\n",
       "      <td>15:49:58+00:00</td>\n",
       "    </tr>\n",
       "  </tbody>\n",
       "</table>\n",
       "</div>"
      ],
      "text/plain": [
       "     current_time\n",
       "0  15:49:58+00:00"
      ]
     },
     "metadata": {},
     "output_type": "display_data"
    }
   ],
   "source": [
    "with db_connection() as conn:\n",
    "    conn.fetch_all(\"\"\"SELECT current_time(0);\"\"\")"
   ]
  },
  {
   "cell_type": "code",
   "execution_count": 7,
   "id": "8eae6dfa",
   "metadata": {},
   "outputs": [
    {
     "data": {
      "text/html": [
       "<div>\n",
       "<style scoped>\n",
       "    .dataframe tbody tr th:only-of-type {\n",
       "        vertical-align: middle;\n",
       "    }\n",
       "\n",
       "    .dataframe tbody tr th {\n",
       "        vertical-align: top;\n",
       "    }\n",
       "\n",
       "    .dataframe thead th {\n",
       "        text-align: right;\n",
       "    }\n",
       "</style>\n",
       "<table border=\"1\" class=\"dataframe\">\n",
       "  <thead>\n",
       "    <tr style=\"text-align: right;\">\n",
       "      <th></th>\n",
       "      <th>current_time</th>\n",
       "    </tr>\n",
       "  </thead>\n",
       "  <tbody>\n",
       "    <tr>\n",
       "      <th>0</th>\n",
       "      <td>15:49:57.600000+00:00</td>\n",
       "    </tr>\n",
       "  </tbody>\n",
       "</table>\n",
       "</div>"
      ],
      "text/plain": [
       "            current_time\n",
       "0  15:49:57.600000+00:00"
      ]
     },
     "metadata": {},
     "output_type": "display_data"
    }
   ],
   "source": [
    "with db_connection() as conn:\n",
    "    conn.fetch_all(\"\"\"SELECT current_time(1);\"\"\")"
   ]
  },
  {
   "cell_type": "code",
   "execution_count": 8,
   "id": "4bc177c5",
   "metadata": {},
   "outputs": [
    {
     "data": {
      "text/html": [
       "<div>\n",
       "<style scoped>\n",
       "    .dataframe tbody tr th:only-of-type {\n",
       "        vertical-align: middle;\n",
       "    }\n",
       "\n",
       "    .dataframe tbody tr th {\n",
       "        vertical-align: top;\n",
       "    }\n",
       "\n",
       "    .dataframe thead th {\n",
       "        text-align: right;\n",
       "    }\n",
       "</style>\n",
       "<table border=\"1\" class=\"dataframe\">\n",
       "  <thead>\n",
       "    <tr style=\"text-align: right;\">\n",
       "      <th></th>\n",
       "      <th>current_time</th>\n",
       "    </tr>\n",
       "  </thead>\n",
       "  <tbody>\n",
       "    <tr>\n",
       "      <th>0</th>\n",
       "      <td>15:49:57.670000+00:00</td>\n",
       "    </tr>\n",
       "  </tbody>\n",
       "</table>\n",
       "</div>"
      ],
      "text/plain": [
       "            current_time\n",
       "0  15:49:57.670000+00:00"
      ]
     },
     "metadata": {},
     "output_type": "display_data"
    }
   ],
   "source": [
    "with db_connection() as conn:\n",
    "    conn.fetch_all(\"\"\"SELECT current_time(2);\"\"\")"
   ]
  },
  {
   "cell_type": "code",
   "execution_count": null,
   "id": "17dfe8d7",
   "metadata": {},
   "outputs": [],
   "source": []
  }
 ],
 "metadata": {
  "kernelspec": {
   "display_name": "Python 3 (ipykernel)",
   "language": "python",
   "name": "python3"
  },
  "language_info": {
   "codemirror_mode": {
    "name": "ipython",
    "version": 3
   },
   "file_extension": ".py",
   "mimetype": "text/x-python",
   "name": "python",
   "nbconvert_exporter": "python",
   "pygments_lexer": "ipython3",
   "version": "3.11.0"
  }
 },
 "nbformat": 4,
 "nbformat_minor": 5
}
