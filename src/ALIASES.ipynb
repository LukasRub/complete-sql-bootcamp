{
 "cells": [
  {
   "cell_type": "code",
   "execution_count": 1,
   "id": "faf15ec9",
   "metadata": {},
   "outputs": [],
   "source": [
    "from utils.query_db import db_connection"
   ]
  },
  {
   "cell_type": "markdown",
   "id": "63bfedeb",
   "metadata": {},
   "source": [
    "### **ALIASES** (**`AS`** keyword) "
   ]
  },
  {
   "cell_type": "markdown",
   "id": "54ea51ce",
   "metadata": {},
   "source": [
    "PostgreSQL ALIASES can be used to create a temporary name for columns or tables.\n",
    "\n",
    "* COLUMN ALIASES are used to make column headings in your result set easier to read.\n",
    "* TABLE ALIASES are used to shorten your SQL to make it easier to read or when you are performing a self join (ie: listing the same table more than once in the FROM clause).\n",
    "\n",
    "#### Syntax\n",
    "The syntax to alias a column in PostgreSQL is:\n",
    "\n",
    "`column_name [ AS ] alias_name`\n",
    "\n",
    "OR\n",
    "\n",
    "The syntax to alias a table in PostgreSQL is:\n",
    "\n",
    "`table_name [ AS ] alias_name`\n",
    "\n",
    "#### Parameters or Arguments\n",
    "* **`column_name`** The original name of the column that you wish to alias.\n",
    "* **`table_name`** The original name of the table that you wish to alias..\n",
    "* **`AS`** Optional. Most programmers will specify the AS keyword when aliasing a column name, but not when aliasing a table name. Whether you specify the AS keyword or not has no impact on the alias in PostgreSQL. It is a personal choice in PostgreSQL, unlike other databases. (Our examples will use AS when aliasing a column name but omit AS when aliasing a table name.).\n",
    "* **`alias_name`** The temporary name to assign to the column or table.\n",
    "\n",
    "#### Note\n",
    "* If the alias_name contains spaces, you must enclose the alias_name in quotes.\n",
    "* It is acceptable to use spaces when you are aliasing a column name. However, it is not generally good practice to use spaces when you are aliasing a table name.\n",
    "* The alias_name is only valid within the scope of the SQL statement.\n",
    "#### Sources\n",
    "[1] PostgreSQL Tutorial, *PostgreSQL: ALIASES*, Techonthenet.com, https://www.techonthenet.com/postgresql/alias.php (*Retrieved 2023-03-17*)"
   ]
  },
  {
   "cell_type": "code",
   "execution_count": 2,
   "id": "52097458",
   "metadata": {},
   "outputs": [
    {
     "data": {
      "text/html": [
       "<div>\n",
       "<style scoped>\n",
       "    .dataframe tbody tr th:only-of-type {\n",
       "        vertical-align: middle;\n",
       "    }\n",
       "\n",
       "    .dataframe tbody tr th {\n",
       "        vertical-align: top;\n",
       "    }\n",
       "\n",
       "    .dataframe thead th {\n",
       "        text-align: right;\n",
       "    }\n",
       "</style>\n",
       "<table border=\"1\" class=\"dataframe\">\n",
       "  <thead>\n",
       "    <tr style=\"text-align: right;\">\n",
       "      <th></th>\n",
       "      <th>rental_price</th>\n",
       "    </tr>\n",
       "  </thead>\n",
       "  <tbody>\n",
       "    <tr>\n",
       "      <th>0</th>\n",
       "      <td>7.99</td>\n",
       "    </tr>\n",
       "    <tr>\n",
       "      <th>1</th>\n",
       "      <td>1.99</td>\n",
       "    </tr>\n",
       "    <tr>\n",
       "      <th>2</th>\n",
       "      <td>7.99</td>\n",
       "    </tr>\n",
       "    <tr>\n",
       "      <th>3</th>\n",
       "      <td>2.99</td>\n",
       "    </tr>\n",
       "    <tr>\n",
       "      <th>4</th>\n",
       "      <td>7.99</td>\n",
       "    </tr>\n",
       "  </tbody>\n",
       "</table>\n",
       "</div>"
      ],
      "text/plain": [
       "  rental_price\n",
       "0         7.99\n",
       "1         1.99\n",
       "2         7.99\n",
       "3         2.99\n",
       "4         7.99"
      ]
     },
     "metadata": {},
     "output_type": "display_data"
    }
   ],
   "source": [
    "with db_connection() as conn:\n",
    "    conn.fetch_all(\"\"\"SELECT amount AS rental_price\n",
    "                      FROM payment\n",
    "                      LIMIT 5;\"\"\")"
   ]
  },
  {
   "cell_type": "code",
   "execution_count": 3,
   "id": "da9fbee3",
   "metadata": {},
   "outputs": [
    {
     "data": {
      "text/html": [
       "<div>\n",
       "<style scoped>\n",
       "    .dataframe tbody tr th:only-of-type {\n",
       "        vertical-align: middle;\n",
       "    }\n",
       "\n",
       "    .dataframe tbody tr th {\n",
       "        vertical-align: top;\n",
       "    }\n",
       "\n",
       "    .dataframe thead th {\n",
       "        text-align: right;\n",
       "    }\n",
       "</style>\n",
       "<table border=\"1\" class=\"dataframe\">\n",
       "  <thead>\n",
       "    <tr style=\"text-align: right;\">\n",
       "      <th></th>\n",
       "      <th>rental price</th>\n",
       "    </tr>\n",
       "  </thead>\n",
       "  <tbody>\n",
       "    <tr>\n",
       "      <th>0</th>\n",
       "      <td>7.99</td>\n",
       "    </tr>\n",
       "    <tr>\n",
       "      <th>1</th>\n",
       "      <td>1.99</td>\n",
       "    </tr>\n",
       "    <tr>\n",
       "      <th>2</th>\n",
       "      <td>7.99</td>\n",
       "    </tr>\n",
       "    <tr>\n",
       "      <th>3</th>\n",
       "      <td>2.99</td>\n",
       "    </tr>\n",
       "    <tr>\n",
       "      <th>4</th>\n",
       "      <td>7.99</td>\n",
       "    </tr>\n",
       "  </tbody>\n",
       "</table>\n",
       "</div>"
      ],
      "text/plain": [
       "  rental price\n",
       "0         7.99\n",
       "1         1.99\n",
       "2         7.99\n",
       "3         2.99\n",
       "4         7.99"
      ]
     },
     "metadata": {},
     "output_type": "display_data"
    }
   ],
   "source": [
    "with db_connection() as conn:\n",
    "    conn.fetch_all(\"\"\"SELECT amount AS \"rental price\"\n",
    "                      FROM payment\n",
    "                      LIMIT 5;\"\"\")"
   ]
  },
  {
   "cell_type": "code",
   "execution_count": 4,
   "id": "37ba36eb",
   "metadata": {},
   "outputs": [
    {
     "data": {
      "text/html": [
       "<div>\n",
       "<style scoped>\n",
       "    .dataframe tbody tr th:only-of-type {\n",
       "        vertical-align: middle;\n",
       "    }\n",
       "\n",
       "    .dataframe tbody tr th {\n",
       "        vertical-align: top;\n",
       "    }\n",
       "\n",
       "    .dataframe thead th {\n",
       "        text-align: right;\n",
       "    }\n",
       "</style>\n",
       "<table border=\"1\" class=\"dataframe\">\n",
       "  <thead>\n",
       "    <tr style=\"text-align: right;\">\n",
       "      <th></th>\n",
       "      <th>rental price</th>\n",
       "    </tr>\n",
       "  </thead>\n",
       "  <tbody>\n",
       "    <tr>\n",
       "      <th>0</th>\n",
       "      <td>7.99</td>\n",
       "    </tr>\n",
       "    <tr>\n",
       "      <th>1</th>\n",
       "      <td>1.99</td>\n",
       "    </tr>\n",
       "    <tr>\n",
       "      <th>2</th>\n",
       "      <td>7.99</td>\n",
       "    </tr>\n",
       "    <tr>\n",
       "      <th>3</th>\n",
       "      <td>2.99</td>\n",
       "    </tr>\n",
       "    <tr>\n",
       "      <th>4</th>\n",
       "      <td>7.99</td>\n",
       "    </tr>\n",
       "  </tbody>\n",
       "</table>\n",
       "</div>"
      ],
      "text/plain": [
       "  rental price\n",
       "0         7.99\n",
       "1         1.99\n",
       "2         7.99\n",
       "3         2.99\n",
       "4         7.99"
      ]
     },
     "metadata": {},
     "output_type": "display_data"
    }
   ],
   "source": [
    "with db_connection() as conn:\n",
    "    conn.fetch_all(\"\"\"SELECT amount \"rental price\"\n",
    "                      FROM payment\n",
    "                      LIMIT 5;\"\"\")"
   ]
  },
  {
   "cell_type": "markdown",
   "id": "41e0e3c4",
   "metadata": {},
   "source": [
    "**Important**: The **`AS`** keyword gets executed at the very end of a query, meaning that we can not use the ALIAS inside a **`WHERE`** or **`HAVING`** statement."
   ]
  },
  {
   "cell_type": "code",
   "execution_count": null,
   "id": "ac514015",
   "metadata": {},
   "outputs": [],
   "source": []
  }
 ],
 "metadata": {
  "kernelspec": {
   "display_name": "Python 3 (ipykernel)",
   "language": "python",
   "name": "python3"
  },
  "language_info": {
   "codemirror_mode": {
    "name": "ipython",
    "version": 3
   },
   "file_extension": ".py",
   "mimetype": "text/x-python",
   "name": "python",
   "nbconvert_exporter": "python",
   "pygments_lexer": "ipython3",
   "version": "3.11.0"
  }
 },
 "nbformat": 4,
 "nbformat_minor": 5
}
