{
 "cells": [
  {
   "cell_type": "code",
   "execution_count": 1,
   "id": "067571ae",
   "metadata": {},
   "outputs": [],
   "source": [
    "from utils.query_db import db_connection"
   ]
  },
  {
   "cell_type": "markdown",
   "id": "137aaa86",
   "metadata": {},
   "source": [
    "How many payment transactions were greater than $5.00?"
   ]
  },
  {
   "cell_type": "code",
   "execution_count": 2,
   "id": "6b04aec3",
   "metadata": {},
   "outputs": [
    {
     "data": {
      "text/html": [
       "<div>\n",
       "<style scoped>\n",
       "    .dataframe tbody tr th:only-of-type {\n",
       "        vertical-align: middle;\n",
       "    }\n",
       "\n",
       "    .dataframe tbody tr th {\n",
       "        vertical-align: top;\n",
       "    }\n",
       "\n",
       "    .dataframe thead th {\n",
       "        text-align: right;\n",
       "    }\n",
       "</style>\n",
       "<table border=\"1\" class=\"dataframe\">\n",
       "  <thead>\n",
       "    <tr style=\"text-align: right;\">\n",
       "      <th></th>\n",
       "      <th>count</th>\n",
       "    </tr>\n",
       "  </thead>\n",
       "  <tbody>\n",
       "    <tr>\n",
       "      <th>0</th>\n",
       "      <td>3618</td>\n",
       "    </tr>\n",
       "  </tbody>\n",
       "</table>\n",
       "</div>"
      ],
      "text/plain": [
       "   count\n",
       "0   3618"
      ]
     },
     "metadata": {},
     "output_type": "display_data"
    }
   ],
   "source": [
    "with db_connection() as conn:\n",
    "    conn.fetch_all(\"\"\"SELECT COUNT(payment_id)\n",
    "                      FROM payment\n",
    "                      WHERE amount > 5;\"\"\")"
   ]
  },
  {
   "cell_type": "markdown",
   "id": "b63e6e25",
   "metadata": {},
   "source": [
    "How many actors have a first name that starts with the letter P?"
   ]
  },
  {
   "cell_type": "code",
   "execution_count": 3,
   "id": "c11472ab",
   "metadata": {},
   "outputs": [
    {
     "data": {
      "text/html": [
       "<div>\n",
       "<style scoped>\n",
       "    .dataframe tbody tr th:only-of-type {\n",
       "        vertical-align: middle;\n",
       "    }\n",
       "\n",
       "    .dataframe tbody tr th {\n",
       "        vertical-align: top;\n",
       "    }\n",
       "\n",
       "    .dataframe thead th {\n",
       "        text-align: right;\n",
       "    }\n",
       "</style>\n",
       "<table border=\"1\" class=\"dataframe\">\n",
       "  <thead>\n",
       "    <tr style=\"text-align: right;\">\n",
       "      <th></th>\n",
       "      <th>count</th>\n",
       "    </tr>\n",
       "  </thead>\n",
       "  <tbody>\n",
       "    <tr>\n",
       "      <th>0</th>\n",
       "      <td>5</td>\n",
       "    </tr>\n",
       "  </tbody>\n",
       "</table>\n",
       "</div>"
      ],
      "text/plain": [
       "   count\n",
       "0      5"
      ]
     },
     "metadata": {},
     "output_type": "display_data"
    }
   ],
   "source": [
    "with db_connection() as conn:\n",
    "    conn.fetch_all(\"\"\"SELECT COUNT(first_name)\n",
    "                      FROM actor \n",
    "                      WHERE first_name LIKE 'P%';\"\"\")"
   ]
  },
  {
   "cell_type": "markdown",
   "id": "7d071533",
   "metadata": {},
   "source": [
    "How many unique districts are our customers from?"
   ]
  },
  {
   "cell_type": "code",
   "execution_count": 4,
   "id": "e77e80d2",
   "metadata": {},
   "outputs": [
    {
     "data": {
      "text/html": [
       "<div>\n",
       "<style scoped>\n",
       "    .dataframe tbody tr th:only-of-type {\n",
       "        vertical-align: middle;\n",
       "    }\n",
       "\n",
       "    .dataframe tbody tr th {\n",
       "        vertical-align: top;\n",
       "    }\n",
       "\n",
       "    .dataframe thead th {\n",
       "        text-align: right;\n",
       "    }\n",
       "</style>\n",
       "<table border=\"1\" class=\"dataframe\">\n",
       "  <thead>\n",
       "    <tr style=\"text-align: right;\">\n",
       "      <th></th>\n",
       "      <th>count</th>\n",
       "    </tr>\n",
       "  </thead>\n",
       "  <tbody>\n",
       "    <tr>\n",
       "      <th>0</th>\n",
       "      <td>378</td>\n",
       "    </tr>\n",
       "  </tbody>\n",
       "</table>\n",
       "</div>"
      ],
      "text/plain": [
       "   count\n",
       "0    378"
      ]
     },
     "metadata": {},
     "output_type": "display_data"
    }
   ],
   "source": [
    "with db_connection() as conn:\n",
    "    conn.fetch_all(\"\"\"SELECT COUNT(DISTINCT(district))\n",
    "                      FROM address;\"\"\")"
   ]
  },
  {
   "cell_type": "markdown",
   "id": "5952ed5d",
   "metadata": {},
   "source": [
    "Retrieve the list of names for those distinct districts from the previous question."
   ]
  },
  {
   "cell_type": "code",
   "execution_count": 5,
   "id": "91b3d06f",
   "metadata": {},
   "outputs": [
    {
     "data": {
      "text/html": [
       "<div>\n",
       "<style scoped>\n",
       "    .dataframe tbody tr th:only-of-type {\n",
       "        vertical-align: middle;\n",
       "    }\n",
       "\n",
       "    .dataframe tbody tr th {\n",
       "        vertical-align: top;\n",
       "    }\n",
       "\n",
       "    .dataframe thead th {\n",
       "        text-align: right;\n",
       "    }\n",
       "</style>\n",
       "<table border=\"1\" class=\"dataframe\">\n",
       "  <thead>\n",
       "    <tr style=\"text-align: right;\">\n",
       "      <th></th>\n",
       "      <th>district</th>\n",
       "    </tr>\n",
       "  </thead>\n",
       "  <tbody>\n",
       "    <tr>\n",
       "      <th>0</th>\n",
       "      <td>Aden</td>\n",
       "    </tr>\n",
       "    <tr>\n",
       "      <th>1</th>\n",
       "      <td>Eastern Visayas</td>\n",
       "    </tr>\n",
       "    <tr>\n",
       "      <th>2</th>\n",
       "      <td>Vaduz</td>\n",
       "    </tr>\n",
       "    <tr>\n",
       "      <th>3</th>\n",
       "      <td>Tokat</td>\n",
       "    </tr>\n",
       "    <tr>\n",
       "      <th>4</th>\n",
       "      <td>Anzotegui</td>\n",
       "    </tr>\n",
       "    <tr>\n",
       "      <th>...</th>\n",
       "      <td>...</td>\n",
       "    </tr>\n",
       "    <tr>\n",
       "      <th>373</th>\n",
       "      <td>Rostov-na-Donu</td>\n",
       "    </tr>\n",
       "    <tr>\n",
       "      <th>374</th>\n",
       "      <td>Sind</td>\n",
       "    </tr>\n",
       "    <tr>\n",
       "      <th>375</th>\n",
       "      <td>Nghe An</td>\n",
       "    </tr>\n",
       "    <tr>\n",
       "      <th>376</th>\n",
       "      <td>Ktahya</td>\n",
       "    </tr>\n",
       "    <tr>\n",
       "      <th>377</th>\n",
       "      <td>Veracruz</td>\n",
       "    </tr>\n",
       "  </tbody>\n",
       "</table>\n",
       "<p>378 rows × 1 columns</p>\n",
       "</div>"
      ],
      "text/plain": [
       "            district\n",
       "0               Aden\n",
       "1    Eastern Visayas\n",
       "2              Vaduz\n",
       "3              Tokat\n",
       "4          Anzotegui\n",
       "..               ...\n",
       "373   Rostov-na-Donu\n",
       "374             Sind\n",
       "375          Nghe An\n",
       "376           Ktahya\n",
       "377         Veracruz\n",
       "\n",
       "[378 rows x 1 columns]"
      ]
     },
     "metadata": {},
     "output_type": "display_data"
    }
   ],
   "source": [
    "with db_connection() as conn:\n",
    "    conn.fetch_all(\"\"\"SELECT DISTINCT(district)\n",
    "                      FROM address;\"\"\")"
   ]
  },
  {
   "cell_type": "markdown",
   "id": "e49c2b39",
   "metadata": {},
   "source": [
    "How many films have a rating of R and a replacement cost between $5 and $15?"
   ]
  },
  {
   "cell_type": "code",
   "execution_count": 6,
   "id": "29a6bca0",
   "metadata": {},
   "outputs": [
    {
     "data": {
      "text/html": [
       "<div>\n",
       "<style scoped>\n",
       "    .dataframe tbody tr th:only-of-type {\n",
       "        vertical-align: middle;\n",
       "    }\n",
       "\n",
       "    .dataframe tbody tr th {\n",
       "        vertical-align: top;\n",
       "    }\n",
       "\n",
       "    .dataframe thead th {\n",
       "        text-align: right;\n",
       "    }\n",
       "</style>\n",
       "<table border=\"1\" class=\"dataframe\">\n",
       "  <thead>\n",
       "    <tr style=\"text-align: right;\">\n",
       "      <th></th>\n",
       "      <th>count</th>\n",
       "    </tr>\n",
       "  </thead>\n",
       "  <tbody>\n",
       "    <tr>\n",
       "      <th>0</th>\n",
       "      <td>52</td>\n",
       "    </tr>\n",
       "  </tbody>\n",
       "</table>\n",
       "</div>"
      ],
      "text/plain": [
       "   count\n",
       "0     52"
      ]
     },
     "metadata": {},
     "output_type": "display_data"
    }
   ],
   "source": [
    "with db_connection() as conn:\n",
    "    conn.fetch_all(\"\"\"SELECT COUNT(title)\n",
    "                      FROM film\n",
    "                      WHERE rating = 'R'\n",
    "                                AND\n",
    "                            replacement_cost BETWEEN 5 AND 15;\"\"\")"
   ]
  },
  {
   "cell_type": "markdown",
   "id": "5e9cc3b6",
   "metadata": {},
   "source": [
    "How many films have the word Truman somewhere in the title?"
   ]
  },
  {
   "cell_type": "code",
   "execution_count": 7,
   "id": "d5577147",
   "metadata": {},
   "outputs": [
    {
     "data": {
      "text/html": [
       "<div>\n",
       "<style scoped>\n",
       "    .dataframe tbody tr th:only-of-type {\n",
       "        vertical-align: middle;\n",
       "    }\n",
       "\n",
       "    .dataframe tbody tr th {\n",
       "        vertical-align: top;\n",
       "    }\n",
       "\n",
       "    .dataframe thead th {\n",
       "        text-align: right;\n",
       "    }\n",
       "</style>\n",
       "<table border=\"1\" class=\"dataframe\">\n",
       "  <thead>\n",
       "    <tr style=\"text-align: right;\">\n",
       "      <th></th>\n",
       "      <th>count</th>\n",
       "    </tr>\n",
       "  </thead>\n",
       "  <tbody>\n",
       "    <tr>\n",
       "      <th>0</th>\n",
       "      <td>5</td>\n",
       "    </tr>\n",
       "  </tbody>\n",
       "</table>\n",
       "</div>"
      ],
      "text/plain": [
       "   count\n",
       "0      5"
      ]
     },
     "metadata": {},
     "output_type": "display_data"
    }
   ],
   "source": [
    "with db_connection() as conn:\n",
    "    conn.fetch_all(\"\"\"SELECT COUNT(title)\n",
    "                      FROM film\n",
    "                      WHERE title LIKE '%Truman%';\"\"\")"
   ]
  },
  {
   "cell_type": "markdown",
   "id": "66749f1f",
   "metadata": {},
   "source": [
    "Return the customer IDs of customers who have spent at least $110 with the staff member who has an ID of 2."
   ]
  },
  {
   "cell_type": "code",
   "execution_count": 8,
   "id": "8c5ad933",
   "metadata": {},
   "outputs": [
    {
     "data": {
      "text/html": [
       "<div>\n",
       "<style scoped>\n",
       "    .dataframe tbody tr th:only-of-type {\n",
       "        vertical-align: middle;\n",
       "    }\n",
       "\n",
       "    .dataframe tbody tr th {\n",
       "        vertical-align: top;\n",
       "    }\n",
       "\n",
       "    .dataframe thead th {\n",
       "        text-align: right;\n",
       "    }\n",
       "</style>\n",
       "<table border=\"1\" class=\"dataframe\">\n",
       "  <thead>\n",
       "    <tr style=\"text-align: right;\">\n",
       "      <th></th>\n",
       "      <th>customer_id</th>\n",
       "      <th>amount_spent</th>\n",
       "    </tr>\n",
       "  </thead>\n",
       "  <tbody>\n",
       "    <tr>\n",
       "      <th>0</th>\n",
       "      <td>187</td>\n",
       "      <td>110.81</td>\n",
       "    </tr>\n",
       "    <tr>\n",
       "      <th>1</th>\n",
       "      <td>148</td>\n",
       "      <td>110.78</td>\n",
       "    </tr>\n",
       "  </tbody>\n",
       "</table>\n",
       "</div>"
      ],
      "text/plain": [
       "   customer_id amount_spent\n",
       "0          187       110.81\n",
       "1          148       110.78"
      ]
     },
     "metadata": {},
     "output_type": "display_data"
    }
   ],
   "source": [
    "with db_connection() as conn:\n",
    "    conn.fetch_all(\"\"\"SELECT customer_id,\n",
    "                             SUM(amount) as amount_spent\n",
    "                      FROM payment\n",
    "                      WHERE staff_id = '2'\n",
    "                      GROUP BY customer_id\n",
    "                      HAVING SUM(amount) >= 110;\"\"\")"
   ]
  },
  {
   "cell_type": "markdown",
   "id": "9bd132d9",
   "metadata": {},
   "source": [
    " How many films begin with the letter J?"
   ]
  },
  {
   "cell_type": "code",
   "execution_count": 9,
   "id": "fb1e5dc4",
   "metadata": {},
   "outputs": [
    {
     "data": {
      "text/html": [
       "<div>\n",
       "<style scoped>\n",
       "    .dataframe tbody tr th:only-of-type {\n",
       "        vertical-align: middle;\n",
       "    }\n",
       "\n",
       "    .dataframe tbody tr th {\n",
       "        vertical-align: top;\n",
       "    }\n",
       "\n",
       "    .dataframe thead th {\n",
       "        text-align: right;\n",
       "    }\n",
       "</style>\n",
       "<table border=\"1\" class=\"dataframe\">\n",
       "  <thead>\n",
       "    <tr style=\"text-align: right;\">\n",
       "      <th></th>\n",
       "      <th>count</th>\n",
       "    </tr>\n",
       "  </thead>\n",
       "  <tbody>\n",
       "    <tr>\n",
       "      <th>0</th>\n",
       "      <td>20</td>\n",
       "    </tr>\n",
       "  </tbody>\n",
       "</table>\n",
       "</div>"
      ],
      "text/plain": [
       "   count\n",
       "0     20"
      ]
     },
     "metadata": {},
     "output_type": "display_data"
    }
   ],
   "source": [
    "with db_connection() as conn:\n",
    "    conn.fetch_all(\"\"\"SELECT COUNT(title)\n",
    "                      FROM film\n",
    "                      WHERE title ILIKE 'j%';\"\"\")"
   ]
  },
  {
   "cell_type": "markdown",
   "id": "9ce0cf3f",
   "metadata": {},
   "source": [
    "What customer has the highest customer ID number whose name starts with an 'E' and has an address ID lower than 500?"
   ]
  },
  {
   "cell_type": "code",
   "execution_count": 10,
   "id": "d47dab46",
   "metadata": {},
   "outputs": [
    {
     "data": {
      "text/html": [
       "<div>\n",
       "<style scoped>\n",
       "    .dataframe tbody tr th:only-of-type {\n",
       "        vertical-align: middle;\n",
       "    }\n",
       "\n",
       "    .dataframe tbody tr th {\n",
       "        vertical-align: top;\n",
       "    }\n",
       "\n",
       "    .dataframe thead th {\n",
       "        text-align: right;\n",
       "    }\n",
       "</style>\n",
       "<table border=\"1\" class=\"dataframe\">\n",
       "  <thead>\n",
       "    <tr style=\"text-align: right;\">\n",
       "      <th></th>\n",
       "      <th>customer_id</th>\n",
       "      <th>first_name</th>\n",
       "      <th>last_name</th>\n",
       "    </tr>\n",
       "  </thead>\n",
       "  <tbody>\n",
       "    <tr>\n",
       "      <th>0</th>\n",
       "      <td>434</td>\n",
       "      <td>Eddie</td>\n",
       "      <td>Tomlin</td>\n",
       "    </tr>\n",
       "  </tbody>\n",
       "</table>\n",
       "</div>"
      ],
      "text/plain": [
       "   customer_id first_name last_name\n",
       "0          434      Eddie    Tomlin"
      ]
     },
     "metadata": {},
     "output_type": "display_data"
    }
   ],
   "source": [
    "with db_connection() as conn:\n",
    "    conn.fetch_all(\"\"\"SELECT customer_id,\n",
    "                             first_name,\n",
    "                             last_name\n",
    "                      FROM customer\n",
    "                      WHERE customer_id < 500\n",
    "                        AND first_name LIKE 'E%'\n",
    "                      ORDER BY customer_id DESC\n",
    "                      LIMIT 1;\"\"\")"
   ]
  },
  {
   "cell_type": "code",
   "execution_count": null,
   "id": "e6a50bd6",
   "metadata": {},
   "outputs": [],
   "source": []
  }
 ],
 "metadata": {
  "kernelspec": {
   "display_name": "Python 3 (ipykernel)",
   "language": "python",
   "name": "python3"
  },
  "language_info": {
   "codemirror_mode": {
    "name": "ipython",
    "version": 3
   },
   "file_extension": ".py",
   "mimetype": "text/x-python",
   "name": "python",
   "nbconvert_exporter": "python",
   "pygments_lexer": "ipython3",
   "version": "3.11.0"
  }
 },
 "nbformat": 4,
 "nbformat_minor": 5
}
