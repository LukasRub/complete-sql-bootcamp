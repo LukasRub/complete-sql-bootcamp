{
 "cells": [
  {
   "cell_type": "markdown",
   "id": "d848c712",
   "metadata": {},
   "source": [
    "### **`now`** Function\n",
    "\n",
    "#### Description\n",
    "The PostgreSQL **`now`** function returns the current date and time with the time zone.\n",
    "\n",
    "#### Syntax\n",
    "The syntax for the **`now`** function in PostgreSQL is:\n",
    "```\n",
    "now()\n",
    "```\n",
    "\n",
    "#### Parameters or Arguments\n",
    "There are no parameters or arguments for the now function.\n",
    "\n",
    "#### Note\n",
    "* The now function will return the current date as a `YYYY-MM-DD HH:MM:SS.US+TZ` format."
   ]
  },
  {
   "cell_type": "code",
   "execution_count": 1,
   "id": "543b4ca6",
   "metadata": {},
   "outputs": [
    {
     "data": {
      "text/html": [
       "<div>\n",
       "<style scoped>\n",
       "    .dataframe tbody tr th:only-of-type {\n",
       "        vertical-align: middle;\n",
       "    }\n",
       "\n",
       "    .dataframe tbody tr th {\n",
       "        vertical-align: top;\n",
       "    }\n",
       "\n",
       "    .dataframe thead th {\n",
       "        text-align: right;\n",
       "    }\n",
       "</style>\n",
       "<table border=\"1\" class=\"dataframe\">\n",
       "  <thead>\n",
       "    <tr style=\"text-align: right;\">\n",
       "      <th></th>\n",
       "      <th>now</th>\n",
       "    </tr>\n",
       "  </thead>\n",
       "  <tbody>\n",
       "    <tr>\n",
       "      <th>0</th>\n",
       "      <td>2023-03-25 13:36:24.479981+00:00</td>\n",
       "    </tr>\n",
       "  </tbody>\n",
       "</table>\n",
       "</div>"
      ],
      "text/plain": [
       "                               now\n",
       "0 2023-03-25 13:36:24.479981+00:00"
      ]
     },
     "metadata": {},
     "output_type": "display_data"
    }
   ],
   "source": [
    "from utils.query_db import db_connection\n",
    "\n",
    "with db_connection() as conn:\n",
    "    conn.fetch_all(\"\"\"SELECT now();\"\"\")"
   ]
  },
  {
   "cell_type": "markdown",
   "id": "a4f27111",
   "metadata": {},
   "source": [
    "**Note**: The above implies that the timezone of our Postgres instance is set to UTC (or equivallent), which we can confirm by executing `SHOW timezone;`."
   ]
  },
  {
   "cell_type": "code",
   "execution_count": 2,
   "id": "806d2e41",
   "metadata": {},
   "outputs": [
    {
     "data": {
      "text/html": [
       "<div>\n",
       "<style scoped>\n",
       "    .dataframe tbody tr th:only-of-type {\n",
       "        vertical-align: middle;\n",
       "    }\n",
       "\n",
       "    .dataframe tbody tr th {\n",
       "        vertical-align: top;\n",
       "    }\n",
       "\n",
       "    .dataframe thead th {\n",
       "        text-align: right;\n",
       "    }\n",
       "</style>\n",
       "<table border=\"1\" class=\"dataframe\">\n",
       "  <thead>\n",
       "    <tr style=\"text-align: right;\">\n",
       "      <th></th>\n",
       "      <th>TimeZone</th>\n",
       "    </tr>\n",
       "  </thead>\n",
       "  <tbody>\n",
       "    <tr>\n",
       "      <th>0</th>\n",
       "      <td>Etc/UTC</td>\n",
       "    </tr>\n",
       "  </tbody>\n",
       "</table>\n",
       "</div>"
      ],
      "text/plain": [
       "  TimeZone\n",
       "0  Etc/UTC"
      ]
     },
     "metadata": {},
     "output_type": "display_data"
    }
   ],
   "source": [
    "with db_connection() as conn:\n",
    "    conn.fetch_all(\"\"\"SHOW timezone;\"\"\")"
   ]
  },
  {
   "cell_type": "markdown",
   "id": "e451e009",
   "metadata": {},
   "source": [
    "### **`current_date`** Function\n",
    "\n",
    "#### Description\n",
    "The PostgreSQL **`current_date`** function returns the current date.\n",
    "\n",
    "#### Syntax\n",
    "The syntax for the **`current_date`** function in PostgreSQL is:\n",
    "```\n",
    "current_date\n",
    "```\n",
    "\n",
    "#### Parameters or Arguments\n",
    "There are no parameters or arguments for the now function.\n",
    "\n",
    "#### Note\n",
    "* The **`current_date`** function will return the current date as a `YYYY-MM-DD` format.\n",
    "* Do not put parentheses () after the **`current_date`** function."
   ]
  },
  {
   "cell_type": "code",
   "execution_count": 3,
   "id": "7fecb1ad",
   "metadata": {},
   "outputs": [
    {
     "data": {
      "text/html": [
       "<div>\n",
       "<style scoped>\n",
       "    .dataframe tbody tr th:only-of-type {\n",
       "        vertical-align: middle;\n",
       "    }\n",
       "\n",
       "    .dataframe tbody tr th {\n",
       "        vertical-align: top;\n",
       "    }\n",
       "\n",
       "    .dataframe thead th {\n",
       "        text-align: right;\n",
       "    }\n",
       "</style>\n",
       "<table border=\"1\" class=\"dataframe\">\n",
       "  <thead>\n",
       "    <tr style=\"text-align: right;\">\n",
       "      <th></th>\n",
       "      <th>current_date</th>\n",
       "    </tr>\n",
       "  </thead>\n",
       "  <tbody>\n",
       "    <tr>\n",
       "      <th>0</th>\n",
       "      <td>2023-03-25</td>\n",
       "    </tr>\n",
       "  </tbody>\n",
       "</table>\n",
       "</div>"
      ],
      "text/plain": [
       "  current_date\n",
       "0   2023-03-25"
      ]
     },
     "metadata": {},
     "output_type": "display_data"
    }
   ],
   "source": [
    "with db_connection() as conn:\n",
    "    conn.fetch_all(\"\"\"SELECT current_date;\"\"\")"
   ]
  },
  {
   "cell_type": "markdown",
   "id": "4b31d677",
   "metadata": {},
   "source": [
    "**Note**: You can perform algebra with the result of **`current_date`** to add/substract days"
   ]
  },
  {
   "cell_type": "code",
   "execution_count": 4,
   "id": "0815d58b",
   "metadata": {},
   "outputs": [
    {
     "data": {
      "text/html": [
       "<div>\n",
       "<style scoped>\n",
       "    .dataframe tbody tr th:only-of-type {\n",
       "        vertical-align: middle;\n",
       "    }\n",
       "\n",
       "    .dataframe tbody tr th {\n",
       "        vertical-align: top;\n",
       "    }\n",
       "\n",
       "    .dataframe thead th {\n",
       "        text-align: right;\n",
       "    }\n",
       "</style>\n",
       "<table border=\"1\" class=\"dataframe\">\n",
       "  <thead>\n",
       "    <tr style=\"text-align: right;\">\n",
       "      <th></th>\n",
       "      <th>future_date</th>\n",
       "    </tr>\n",
       "  </thead>\n",
       "  <tbody>\n",
       "    <tr>\n",
       "      <th>0</th>\n",
       "      <td>2023-07-03</td>\n",
       "    </tr>\n",
       "  </tbody>\n",
       "</table>\n",
       "</div>"
      ],
      "text/plain": [
       "  future_date\n",
       "0  2023-07-03"
      ]
     },
     "metadata": {},
     "output_type": "display_data"
    }
   ],
   "source": [
    "with db_connection() as conn:\n",
    "    conn.fetch_all(\"\"\"SELECT current_date + 100 AS future_date;\"\"\")"
   ]
  },
  {
   "cell_type": "markdown",
   "id": "384705ba",
   "metadata": {},
   "source": [
    "### **`current_time`** Function\n",
    "\n",
    "#### Description\n",
    "The PostgreSQL **`current_time`** function returns the current time with the time zone.\n",
    "\n",
    "#### Syntax\n",
    "The syntax for the **`current_time`** function in PostgreSQL is:\n",
    "```\n",
    "current_time( [ precision ] )\n",
    "```\n",
    "\n",
    "#### Parameters or Arguments\n",
    "* *`precision`* - Optional. The number of digits to round the fractional seconds to.\n",
    "\n",
    "#### Note\n",
    "* The **`current_time`** function will return the current time of day as a `HH:MM:SS.US+TZ` format.\n",
    "* Do not put parentheses () after the **`current_time`** function when the *`precision`* parameter is not specified. "
   ]
  },
  {
   "cell_type": "code",
   "execution_count": 5,
   "id": "55b87302",
   "metadata": {},
   "outputs": [
    {
     "data": {
      "text/html": [
       "<div>\n",
       "<style scoped>\n",
       "    .dataframe tbody tr th:only-of-type {\n",
       "        vertical-align: middle;\n",
       "    }\n",
       "\n",
       "    .dataframe tbody tr th {\n",
       "        vertical-align: top;\n",
       "    }\n",
       "\n",
       "    .dataframe thead th {\n",
       "        text-align: right;\n",
       "    }\n",
       "</style>\n",
       "<table border=\"1\" class=\"dataframe\">\n",
       "  <thead>\n",
       "    <tr style=\"text-align: right;\">\n",
       "      <th></th>\n",
       "      <th>current_time</th>\n",
       "    </tr>\n",
       "  </thead>\n",
       "  <tbody>\n",
       "    <tr>\n",
       "      <th>0</th>\n",
       "      <td>13:36:24.575869+00:00</td>\n",
       "    </tr>\n",
       "  </tbody>\n",
       "</table>\n",
       "</div>"
      ],
      "text/plain": [
       "            current_time\n",
       "0  13:36:24.575869+00:00"
      ]
     },
     "metadata": {},
     "output_type": "display_data"
    },
    {
     "data": {
      "text/html": [
       "<div>\n",
       "<style scoped>\n",
       "    .dataframe tbody tr th:only-of-type {\n",
       "        vertical-align: middle;\n",
       "    }\n",
       "\n",
       "    .dataframe tbody tr th {\n",
       "        vertical-align: top;\n",
       "    }\n",
       "\n",
       "    .dataframe thead th {\n",
       "        text-align: right;\n",
       "    }\n",
       "</style>\n",
       "<table border=\"1\" class=\"dataframe\">\n",
       "  <thead>\n",
       "    <tr style=\"text-align: right;\">\n",
       "      <th></th>\n",
       "      <th>current_time</th>\n",
       "    </tr>\n",
       "  </thead>\n",
       "  <tbody>\n",
       "    <tr>\n",
       "      <th>0</th>\n",
       "      <td>13:36:25+00:00</td>\n",
       "    </tr>\n",
       "  </tbody>\n",
       "</table>\n",
       "</div>"
      ],
      "text/plain": [
       "     current_time\n",
       "0  13:36:25+00:00"
      ]
     },
     "metadata": {},
     "output_type": "display_data"
    },
    {
     "data": {
      "text/html": [
       "<div>\n",
       "<style scoped>\n",
       "    .dataframe tbody tr th:only-of-type {\n",
       "        vertical-align: middle;\n",
       "    }\n",
       "\n",
       "    .dataframe tbody tr th {\n",
       "        vertical-align: top;\n",
       "    }\n",
       "\n",
       "    .dataframe thead th {\n",
       "        text-align: right;\n",
       "    }\n",
       "</style>\n",
       "<table border=\"1\" class=\"dataframe\">\n",
       "  <thead>\n",
       "    <tr style=\"text-align: right;\">\n",
       "      <th></th>\n",
       "      <th>current_time</th>\n",
       "    </tr>\n",
       "  </thead>\n",
       "  <tbody>\n",
       "    <tr>\n",
       "      <th>0</th>\n",
       "      <td>13:36:24.600000+00:00</td>\n",
       "    </tr>\n",
       "  </tbody>\n",
       "</table>\n",
       "</div>"
      ],
      "text/plain": [
       "            current_time\n",
       "0  13:36:24.600000+00:00"
      ]
     },
     "metadata": {},
     "output_type": "display_data"
    },
    {
     "data": {
      "text/html": [
       "<div>\n",
       "<style scoped>\n",
       "    .dataframe tbody tr th:only-of-type {\n",
       "        vertical-align: middle;\n",
       "    }\n",
       "\n",
       "    .dataframe tbody tr th {\n",
       "        vertical-align: top;\n",
       "    }\n",
       "\n",
       "    .dataframe thead th {\n",
       "        text-align: right;\n",
       "    }\n",
       "</style>\n",
       "<table border=\"1\" class=\"dataframe\">\n",
       "  <thead>\n",
       "    <tr style=\"text-align: right;\">\n",
       "      <th></th>\n",
       "      <th>current_time</th>\n",
       "    </tr>\n",
       "  </thead>\n",
       "  <tbody>\n",
       "    <tr>\n",
       "      <th>0</th>\n",
       "      <td>13:36:24.580000+00:00</td>\n",
       "    </tr>\n",
       "  </tbody>\n",
       "</table>\n",
       "</div>"
      ],
      "text/plain": [
       "            current_time\n",
       "0  13:36:24.580000+00:00"
      ]
     },
     "metadata": {},
     "output_type": "display_data"
    }
   ],
   "source": [
    "with db_connection() as conn:\n",
    "    conn.fetch_all(\"\"\"SELECT current_time;\"\"\")\n",
    "    conn.fetch_all(\"\"\"SELECT current_time(0);\"\"\")\n",
    "    conn.fetch_all(\"\"\"SELECT current_time(1);\"\"\")\n",
    "    conn.fetch_all(\"\"\"SELECT current_time(2);\"\"\")"
   ]
  },
  {
   "cell_type": "markdown",
   "id": "11e9be46",
   "metadata": {},
   "source": [
    "### **`extract`** Function\n",
    "\n",
    "#### Description\n",
    "The PostgreSQL **`extract`** function extracts parts from a date.\n",
    "\n",
    "#### Syntax\n",
    "The syntax for the **`extract`** function in PostgreSQL is:\n",
    "```\n",
    "extract( unit FROM date )\n",
    "```\n",
    "\n",
    "#### Parameters or Arguments\n",
    "* *`date`* - T date, timestamp, time, or interval value from which the date part is to be extracted.\n",
    "* *`unit`* - The unit type of the interval such as day, month, minute, hour, and so on. It can be one of the following:\n",
    "    * `'century'` - Uses the Gregorian calendar where the first century starts at `0001-01-01 00:00:00 AD`.\n",
    "    * `'day'` - Day of the month (1 to 31).\n",
    "    * `'decade'` - Year divided by 10.\n",
    "    * `'dow'` - Day of the week (0=Sunday, 1=Monday, 2=Tuesday, ... 6=Saturday).\n",
    "    * `'doy'` - Day of the year (1=first day of year, 365/366=last day of the year, depending if it is a leap year).\n",
    "    * `'epoch'` - Number of seconds since `'1970-01-01 00:00:00 UTC'`, if date value. Number of seconds in an interval, if interval value.\n",
    "    * `'hour'` - Hour (0 to 23).\n",
    "    * `'isodow'` - Day of the week (1=Monday, 2=Tuesday, 3=Wednesday, ... 7=Sunday).\n",
    "    * `'isoyear'` - ISO 8601 year value (where the year begins on the Monday of the week that contains January 4th).\n",
    "    * `'microseconds'` - Seconds (and fractional seconds) multiplied by 1,000,000.\n",
    "    * `'millennium'` - Millennium value.\n",
    "    * `'milliseconds'` - Seconds (and fractional seconds) multiplied by 1,000.\n",
    "    * `'minute'` - Minute (0 to 59).\n",
    "    * `'month'` - Number for the month (1 to 12), if date value. Number of months (0 to 11), if interval value.\n",
    "    * `'quarter'` - Quarter (1 to 4).\n",
    "    * `'second'` - Seconds (and fractional seconds).\n",
    "    * `'timezone'` - Time zone offset from UTC, expressed in seconds.\n",
    "    * `'timezone_hour'` - Hour portion of the time zone offset from UTC.\n",
    "    * `'timezone_minute'` - Minute portion of the time zone offset from UTC.\n",
    "    * `'week'` - Number of the week of the year based on ISO 8601 (where the year begins on the Monday of the week that contains January 4th).\n",
    "    * `'year'` - Year as 4-digits.\n",
    "\n",
    "#### Note\n",
    "* See also the [**`date_part`** function](https://www.techonthenet.com/postgresql/functions/date_part.php). "
   ]
  },
  {
   "cell_type": "code",
   "execution_count": 6,
   "id": "ec462168",
   "metadata": {},
   "outputs": [
    {
     "data": {
      "text/html": [
       "<div>\n",
       "<style scoped>\n",
       "    .dataframe tbody tr th:only-of-type {\n",
       "        vertical-align: middle;\n",
       "    }\n",
       "\n",
       "    .dataframe tbody tr th {\n",
       "        vertical-align: top;\n",
       "    }\n",
       "\n",
       "    .dataframe thead th {\n",
       "        text-align: right;\n",
       "    }\n",
       "</style>\n",
       "<table border=\"1\" class=\"dataframe\">\n",
       "  <thead>\n",
       "    <tr style=\"text-align: right;\">\n",
       "      <th></th>\n",
       "      <th>sum_payments</th>\n",
       "      <th>month</th>\n",
       "    </tr>\n",
       "  </thead>\n",
       "  <tbody>\n",
       "    <tr>\n",
       "      <th>0</th>\n",
       "      <td>8351.84</td>\n",
       "      <td>2</td>\n",
       "    </tr>\n",
       "    <tr>\n",
       "      <th>1</th>\n",
       "      <td>23886.56</td>\n",
       "      <td>3</td>\n",
       "    </tr>\n",
       "    <tr>\n",
       "      <th>2</th>\n",
       "      <td>28559.46</td>\n",
       "      <td>4</td>\n",
       "    </tr>\n",
       "    <tr>\n",
       "      <th>3</th>\n",
       "      <td>514.18</td>\n",
       "      <td>5</td>\n",
       "    </tr>\n",
       "  </tbody>\n",
       "</table>\n",
       "</div>"
      ],
      "text/plain": [
       "  sum_payments month\n",
       "0      8351.84     2\n",
       "1     23886.56     3\n",
       "2     28559.46     4\n",
       "3       514.18     5"
      ]
     },
     "metadata": {},
     "output_type": "display_data"
    }
   ],
   "source": [
    "with db_connection() as conn:\n",
    "    conn.fetch_all(\"\"\"\n",
    "        SELECT SUM(amount) AS sum_payments, \n",
    "               extract('month' FROM payment_date) as month\n",
    "        FROM payment\n",
    "        GROUP BY extract('month' FROM payment_date)\n",
    "        ORDER BY month;\n",
    "    \"\"\")"
   ]
  },
  {
   "cell_type": "markdown",
   "id": "03ab1ea2",
   "metadata": {},
   "source": [
    "### **`age`** Function\n",
    "\n",
    "#### Description\n",
    "TThe PostgreSQL **`age`**  function returns the number of years, months, and days between two dates.\n",
    "\n",
    "#### Syntax\n",
    "The syntax for the **`age`** function in PostgreSQL is:\n",
    "```\n",
    "age( [date1,] date2 )\n",
    "```\n",
    "\n",
    "#### Parameters or Arguments\n",
    "* *`date1`* and *`date2`* - The two dates to calculate the difference between. \n",
    "\n",
    "#### Calculation\n",
    "The **`age`** function performs two different calculations depending on what parameters are provided.\n",
    "\n",
    "If *`date1`* is provided, the **`age`** function performs the following calculation:\n",
    "\n",
    "```date1 - date2```\n",
    "\n",
    "If *`date1`* is NOT provided, the **`age`** function performs the following calculation:\n",
    "\n",
    "```current date - date2```\n",
    "\n",
    "#### Note\n",
    "The age function will return the result as one of the following formats:\n",
    "* *xxx year(s) xxx mon(s) xxx day(s)*\n",
    "* *xxx mon(s) xxx day(s)*\n",
    "* *xxx day(s)* "
   ]
  },
  {
   "cell_type": "code",
   "execution_count": 7,
   "id": "4132fdc4",
   "metadata": {},
   "outputs": [
    {
     "data": {
      "text/html": [
       "<div>\n",
       "<style scoped>\n",
       "    .dataframe tbody tr th:only-of-type {\n",
       "        vertical-align: middle;\n",
       "    }\n",
       "\n",
       "    .dataframe tbody tr th {\n",
       "        vertical-align: top;\n",
       "    }\n",
       "\n",
       "    .dataframe thead th {\n",
       "        text-align: right;\n",
       "    }\n",
       "</style>\n",
       "<table border=\"1\" class=\"dataframe\">\n",
       "  <thead>\n",
       "    <tr style=\"text-align: right;\">\n",
       "      <th></th>\n",
       "      <th>time_since_payment</th>\n",
       "    </tr>\n",
       "  </thead>\n",
       "  <tbody>\n",
       "    <tr>\n",
       "      <th>0</th>\n",
       "      <td>5879 days 01:34:13.003423</td>\n",
       "    </tr>\n",
       "    <tr>\n",
       "      <th>1</th>\n",
       "      <td>5878 days 06:36:45.003423</td>\n",
       "    </tr>\n",
       "    <tr>\n",
       "      <th>2</th>\n",
       "      <td>5878 days 01:18:14.003423</td>\n",
       "    </tr>\n",
       "    <tr>\n",
       "      <th>3</th>\n",
       "      <td>5875 days 04:20:03.003423</td>\n",
       "    </tr>\n",
       "    <tr>\n",
       "      <th>4</th>\n",
       "      <td>5874 days 06:28:11.003423</td>\n",
       "    </tr>\n",
       "    <tr>\n",
       "      <th>...</th>\n",
       "      <td>...</td>\n",
       "    </tr>\n",
       "    <tr>\n",
       "      <th>14591</th>\n",
       "      <td>5785 days 10:15:30.003423</td>\n",
       "    </tr>\n",
       "    <tr>\n",
       "      <th>14592</th>\n",
       "      <td>5785 days 10:15:30.003423</td>\n",
       "    </tr>\n",
       "    <tr>\n",
       "      <th>14593</th>\n",
       "      <td>5785 days 10:15:30.003423</td>\n",
       "    </tr>\n",
       "    <tr>\n",
       "      <th>14594</th>\n",
       "      <td>5785 days 10:15:30.003423</td>\n",
       "    </tr>\n",
       "    <tr>\n",
       "      <th>14595</th>\n",
       "      <td>5785 days 10:15:30.003423</td>\n",
       "    </tr>\n",
       "  </tbody>\n",
       "</table>\n",
       "<p>14596 rows × 1 columns</p>\n",
       "</div>"
      ],
      "text/plain": [
       "             time_since_payment\n",
       "0     5879 days 01:34:13.003423\n",
       "1     5878 days 06:36:45.003423\n",
       "2     5878 days 01:18:14.003423\n",
       "3     5875 days 04:20:03.003423\n",
       "4     5874 days 06:28:11.003423\n",
       "...                         ...\n",
       "14591 5785 days 10:15:30.003423\n",
       "14592 5785 days 10:15:30.003423\n",
       "14593 5785 days 10:15:30.003423\n",
       "14594 5785 days 10:15:30.003423\n",
       "14595 5785 days 10:15:30.003423\n",
       "\n",
       "[14596 rows x 1 columns]"
      ]
     },
     "metadata": {},
     "output_type": "display_data"
    }
   ],
   "source": [
    "with db_connection() as conn:\n",
    "    conn.fetch_all(\"\"\"\n",
    "        SELECT age(payment_date) AS time_since_payment\n",
    "        FROM payment;\n",
    "    \"\"\")"
   ]
  },
  {
   "cell_type": "markdown",
   "id": "b365e0f8",
   "metadata": {},
   "source": [
    "#### **`extract`** challenges"
   ]
  },
  {
   "cell_type": "markdown",
   "id": "4865627e",
   "metadata": {},
   "source": [
    "* How many payments occured on a Monday?"
   ]
  },
  {
   "cell_type": "code",
   "execution_count": 8,
   "id": "df4adc02",
   "metadata": {},
   "outputs": [
    {
     "data": {
      "text/html": [
       "<div>\n",
       "<style scoped>\n",
       "    .dataframe tbody tr th:only-of-type {\n",
       "        vertical-align: middle;\n",
       "    }\n",
       "\n",
       "    .dataframe tbody tr th {\n",
       "        vertical-align: top;\n",
       "    }\n",
       "\n",
       "    .dataframe thead th {\n",
       "        text-align: right;\n",
       "    }\n",
       "</style>\n",
       "<table border=\"1\" class=\"dataframe\">\n",
       "  <thead>\n",
       "    <tr style=\"text-align: right;\">\n",
       "      <th></th>\n",
       "      <th>num_payments</th>\n",
       "    </tr>\n",
       "  </thead>\n",
       "  <tbody>\n",
       "    <tr>\n",
       "      <th>0</th>\n",
       "      <td>2948</td>\n",
       "    </tr>\n",
       "  </tbody>\n",
       "</table>\n",
       "</div>"
      ],
      "text/plain": [
       "   num_payments\n",
       "0          2948"
      ]
     },
     "metadata": {},
     "output_type": "display_data"
    }
   ],
   "source": [
    "with db_connection() as conn:\n",
    "    conn.fetch_all(\"\"\"\n",
    "        SELECT COUNT(payment_id) AS num_payments\n",
    "        FROM payment\n",
    "        GROUP BY extract('isodow' FROM payment_date)\n",
    "        HAVING extract('isodow' FROM payment_date) = 1;\n",
    "    \"\"\")"
   ]
  }
 ],
 "metadata": {
  "kernelspec": {
   "display_name": "Python 3 (ipykernel)",
   "language": "python",
   "name": "python3"
  },
  "language_info": {
   "codemirror_mode": {
    "name": "ipython",
    "version": 3
   },
   "file_extension": ".py",
   "mimetype": "text/x-python",
   "name": "python",
   "nbconvert_exporter": "python",
   "pygments_lexer": "ipython3",
   "version": "3.11.0"
  }
 },
 "nbformat": 4,
 "nbformat_minor": 5
}
